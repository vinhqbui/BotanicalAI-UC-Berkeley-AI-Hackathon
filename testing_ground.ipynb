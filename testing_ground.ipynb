{
 "cells": [
  {
   "cell_type": "code",
   "execution_count": 52,
   "metadata": {},
   "outputs": [],
   "source": [
    "from llama_index import SimpleDirectoryReader, VectorStoreIndex, ServiceContext\n",
    "from llama_index.node_parser import SimpleNodeParser\n",
    "from langchain.chat_models import ChatOpenAI\n",
    "\n",
    "from realtyagent.secret import API_KEY\n",
    "\n",
    "import os\n",
    "os.environ['OPENAI_API_KEY'] = API_KEY\n",
    "\n",
    "import openai\n"
   ]
  },
  {
   "cell_type": "code",
   "execution_count": 28,
   "metadata": {},
   "outputs": [],
   "source": [
    "years = os.listdir('data/')\n",
    "documents = []\n",
    "for y in years:\n",
    "    document = SimpleDirectoryReader(f'data/{y}').load_data()\n",
    "    documents.extend(document)"
   ]
  },
  {
   "cell_type": "code",
   "execution_count": 29,
   "metadata": {},
   "outputs": [],
   "source": [
    "indexed_docs = VectorStoreIndex.from_documents(documents)"
   ]
  },
  {
   "cell_type": "code",
   "execution_count": 67,
   "metadata": {},
   "outputs": [],
   "source": [
    "service_context = ServiceContext.from_defaults(llm=ChatOpenAI(temperature=0.56))\n",
    "chat_engine = indexed_docs.as_chat_engine(service_context=service_context,)"
   ]
  },
  {
   "cell_type": "code",
   "execution_count": 68,
   "metadata": {},
   "outputs": [],
   "source": [
    "response = chat_engine.chat('Describe San Jose housing market under 100 words')"
   ]
  },
  {
   "cell_type": "code",
   "execution_count": 69,
   "metadata": {},
   "outputs": [
    {
     "name": "stdout",
     "output_type": "stream",
     "text": [
      "Based on the provided context information, the San Jose housing market appears to have experienced an increase in median prices for condos and townhomes, with a 9% increase QoQ and 17% increase YoY. Additionally, single family homes in San Jose sell quickly, with an average of 37 days on the market. However, no information is provided on the overall state of the housing market in San Jose, such as inventory levels or overall trends.\n"
     ]
    }
   ],
   "source": [
    "print(response)"
   ]
  },
  {
   "cell_type": "code",
   "execution_count": 70,
   "metadata": {},
   "outputs": [],
   "source": [
    "response = chat_engine.chat('Give your best summerize about San Jose 2022 market under 100 words')"
   ]
  },
  {
   "cell_type": "code",
   "execution_count": 71,
   "metadata": {},
   "outputs": [
    {
     "name": "stdout",
     "output_type": "stream",
     "text": [
      "According to the Santa Clara County Association of Realtors' Q1 and Q2 2022 Housing Stats Reports, the San Jose housing market has seen a 9% decrease in median prices for condos and townhomes compared to the previous quarter, but a less than 1% increase compared to the previous year. The average time on the market for single family homes is 13 days, with only 9 days for homes on the market for less than 2 weeks. Overall, the market appears to be competitive with low inventory levels.\n"
     ]
    }
   ],
   "source": [
    "print(response)"
   ]
  },
  {
   "cell_type": "code",
   "execution_count": null,
   "metadata": {},
   "outputs": [],
   "source": []
  }
 ],
 "metadata": {
  "kernelspec": {
   "display_name": "python11",
   "language": "python",
   "name": "python3"
  },
  "language_info": {
   "codemirror_mode": {
    "name": "ipython",
    "version": 3
   },
   "file_extension": ".py",
   "mimetype": "text/x-python",
   "name": "python",
   "nbconvert_exporter": "python",
   "pygments_lexer": "ipython3",
   "version": "3.11.3"
  },
  "orig_nbformat": 4
 },
 "nbformat": 4,
 "nbformat_minor": 2
}
