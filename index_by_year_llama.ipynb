{
 "cells": [
  {
   "cell_type": "code",
   "execution_count": 5,
   "metadata": {},
   "outputs": [],
   "source": [
    "from llama_index import download_loader, VectorStoreIndex, ServiceContext, StorageContext, load_index_from_storage, SimpleDirectoryReader\n",
    "from llama_index.node_parser import SimpleNodeParser\n",
    "import os\n",
    "\n",
    "from collections import defaultdict\n",
    "from realtyagent.secret import API_KEY\n",
    "\n",
    "import openai\n",
    "openai.api_key = API_KEY\n",
    "os.environ['OPENAI_API_KEY'] = API_KEY\n"
   ]
  },
  {
   "cell_type": "code",
   "execution_count": 15,
   "metadata": {},
   "outputs": [
    {
     "data": {
      "text/plain": [
       "<function defaultdict.keys>"
      ]
     },
     "execution_count": 15,
     "metadata": {},
     "output_type": "execute_result"
    }
   ],
   "source": [
    "years = [2023, 2022, 2021]\n",
    "\n",
    "index_docs = defaultdict()\n",
    "all_docs = []\n",
    "parser = SimpleNodeParser()\n",
    "dirs = os.listdir('./data/')\n",
    "\n",
    "for val in dirs:\n",
    "    docs = SimpleDirectoryReader(f'./data/{val}').load_data()\n",
    "    index_docs[val] = parser.get_nodes_from_documents(docs)\n",
    "    all_docs.extend(docs)\n",
    "\n",
    "index_docs.keys()"
   ]
  },
  {
   "cell_type": "code",
   "execution_count": 16,
   "metadata": {},
   "outputs": [],
   "source": [
    "service_context = ServiceContext.from_defaults()\n",
    "index_set = defaultdict()\n",
    "for val in index_docs.keys():\n",
    "    storage_context = StorageContext.from_defaults()\n",
    "    cur_index = VectorStoreIndex.from_documents(index_docs[val], storage_context=storage_context, service_context=service_context)\n",
    "    index_set[val] = cur_index\n",
    "    storage_context.persist(persist_dir=f'./storage/{val}')\n",
    "    "
   ]
  },
  {
   "cell_type": "code",
   "execution_count": 19,
   "metadata": {},
   "outputs": [
    {
     "data": {
      "text/plain": [
       "dict_keys(['2022', '2023', '2021', 'domain_knowledge', 'Listing'])"
      ]
     },
     "execution_count": 19,
     "metadata": {},
     "output_type": "execute_result"
    }
   ],
   "source": [
    "index_docs.keys()"
   ]
  },
  {
   "attachments": {},
   "cell_type": "markdown",
   "metadata": {},
   "source": [
    "### Composing a Graph to Synthesize Answers Across"
   ]
  },
  {
   "cell_type": "code",
   "execution_count": 37,
   "metadata": {},
   "outputs": [
    {
     "name": "stdout",
     "output_type": "stream",
     "text": [
      "dict_keys(['2022', '2023', '2021', 'domain_knowledge', 'Listing'])\n"
     ]
    }
   ],
   "source": [
    "from llama_index import ListIndex, LLMPredictor, ServiceContext, load_graph_from_storage\n",
    "from langchain import OpenAI\n",
    "from llama_index.indices.composability import ComposableGraph\n",
    "\n",
    "index_summaries = [f\"San Jose houing report for {year} fiscal year\" for year in years]\n",
    "index_summaries.append('This is what we know about some listing preferences')\n",
    "index_summaries.append('This is a current home for sales')\n",
    "\n",
    "llm_predictor = LLMPredictor(llm=OpenAI(temperature=0.8))\n",
    "service_context = ServiceContext.from_defaults(llm_predictor=llm_predictor)\n",
    "storage_context = StorageContext.from_defaults()\n",
    "children_indices = [index_set[val] for val in index_set.keys()]\n",
    "print(index_set.keys())\n",
    "\n",
    "graph = ComposableGraph.from_indices(\n",
    "    ListIndex,\n",
    "    children_indices,\n",
    "    index_summaries=index_summaries,\n",
    "    service_context=service_context,\n",
    "    storage_context=storage_context,\n",
    ")\n",
    "\n",
    "root_id = graph.root_id\n",
    "storage_context.persist(persist_dir='./storage/root')"
   ]
  },
  {
   "cell_type": "code",
   "execution_count": 38,
   "metadata": {},
   "outputs": [
    {
     "data": {
      "text/plain": [
       "'942915ab-5f32-4d90-a9be-75aae57f605f'"
      ]
     },
     "execution_count": 38,
     "metadata": {},
     "output_type": "execute_result"
    }
   ],
   "source": [
    "root_id"
   ]
  },
  {
   "attachments": {},
   "cell_type": "markdown",
   "metadata": {},
   "source": [
    "### Setting up the Tools + Langchain Chatbot Agent"
   ]
  },
  {
   "cell_type": "code",
   "execution_count": 24,
   "metadata": {},
   "outputs": [],
   "source": [
    "from langchain.chains.conversation.memory import ConversationBufferMemory\n",
    "from langchain.agents import initialize_agent\n",
    "\n",
    "from llama_index.langchain_helpers.agents import LlamaToolkit, create_llama_chat_agent, IndexToolConfig\n",
    "# define a decompose transform\n",
    "from llama_index.indices.query.query_transform.base import DecomposeQueryTransform\n",
    "decompose_transform = DecomposeQueryTransform(\n",
    "    llm_predictor, verbose=True\n",
    ")\n",
    "\n",
    "# define custom retrievers\n",
    "from llama_index.query_engine.transform_query_engine import TransformQueryEngine\n",
    "\n",
    "custom_query_engines = {}\n",
    "for index in index_set.values():\n",
    "    query_engine = index.as_query_engine()\n",
    "    query_engine = TransformQueryEngine(\n",
    "        query_engine,\n",
    "        query_transform=decompose_transform,\n",
    "        transform_extra_info={'index_summary': index.index_struct.summary},\n",
    "    )\n",
    "    custom_query_engines[index.index_id] = query_engine\n",
    "custom_query_engines[graph.root_id] = graph.root_index.as_query_engine(\n",
    "    response_mode='tree_summarize',\n",
    "    verbose=True,\n",
    ")\n",
    "\n",
    "# construct query engine\n",
    "graph_query_engine = graph.as_query_engine(custom_query_engines=custom_query_engines)\n",
    "\n",
    "# tool config\n",
    "graph_config = IndexToolConfig(\n",
    "    query_engine=graph_query_engine,\n",
    "    name=f\"Graph Index\",\n",
    "    description=\"useful for when you want to answer queries that require analyzing San Jose housing.\",\n",
    "    tool_kwargs={\"return_direct\": True}\n",
    ")"
   ]
  },
  {
   "cell_type": "code",
   "execution_count": 30,
   "metadata": {},
   "outputs": [],
   "source": [
    "# define toolkit\n",
    "index_configs = []\n",
    "for y in range(2021, 2024):\n",
    "    query_engine = index_set[str(y)].as_query_engine(\n",
    "        similarity_top_k=3,\n",
    "    )\n",
    "    tool_config = IndexToolConfig(\n",
    "        query_engine=query_engine, \n",
    "        name=f\"Vector Index {y}\",\n",
    "        description=f\"useful for when you want to answer queries about the {y} San Jose housing\",\n",
    "        tool_kwargs={\"return_direct\": True}\n",
    "    )\n",
    "    index_configs.append(tool_config)\n",
    "\n",
    "cons = 'domain_knowledge'\n",
    "query_engine = index_set[cons].as_query_engine()\n",
    "tool_config = IndexToolConfig(\n",
    "    query_engine=query_engine, \n",
    "    name=f\"Vector Index {cons}\",\n",
    "    description=f\"useful for when you want to answer queries about the specific listing agent preferences San Jose housing\",\n",
    "    tool_kwargs={\"return_direct\": True}\n",
    ")\n",
    "index_configs.append(tool_config)\n",
    "\n",
    "cons = 'Listing'\n",
    "query_engine = index_set[cons].as_query_engine()\n",
    "tool_config = IndexToolConfig(\n",
    "    query_engine=query_engine, \n",
    "    name=f\"Vector Index {cons}\",\n",
    "    description=f\"useful for when you want to answer queries about which homes in San Jose are on sale or on listing or available for buying\",\n",
    "    tool_kwargs={\"return_direct\": True}\n",
    ")\n",
    "index_configs.append(tool_config)\n",
    "\n",
    "toolkit = LlamaToolkit(\n",
    "    index_configs=index_configs + [graph_config],\n",
    ")"
   ]
  },
  {
   "cell_type": "code",
   "execution_count": 31,
   "metadata": {},
   "outputs": [],
   "source": [
    "memory = ConversationBufferMemory(memory_key=\"chat_history\")\n",
    "llm=OpenAI(temperature=0.5)\n",
    "agent_chain = create_llama_chat_agent(\n",
    "    toolkit,\n",
    "    llm,\n",
    "    memory=memory,\n",
    "    verbose=True\n",
    ")"
   ]
  },
  {
   "cell_type": "code",
   "execution_count": 32,
   "metadata": {},
   "outputs": [
    {
     "name": "stdout",
     "output_type": "stream",
     "text": [
      "\n",
      "\n",
      "\u001b[1m> Entering new  chain...\u001b[0m\n",
      "\u001b[32;1m\u001b[1;3m\n",
      "Thought: Do I need to use a tool? Yes\n",
      "Action: Vector Index 2021\n",
      "Action Input: Single income\u001b[0m\n",
      "Observation: \u001b[36;1m\u001b[1;3mhouseholds need what percentage of their income to afford the average rent for a two-bedroom\n",
      "apartment in San José?\n",
      "\n",
      "30%\u001b[0m\n",
      "\u001b[32;1m\u001b[1;3m\u001b[0m\n",
      "\n",
      "\u001b[1m> Finished chain.\u001b[0m\n"
     ]
    },
    {
     "data": {
      "text/plain": [
       "'households need what percentage of their income to afford the average rent for a two-bedroom\\napartment in San José?\\n\\n30%'"
      ]
     },
     "execution_count": 32,
     "metadata": {},
     "output_type": "execute_result"
    }
   ],
   "source": [
    "agent_chain.run(input=\"My client has single income, which homes he could buy?\")"
   ]
  },
  {
   "cell_type": "code",
   "execution_count": 35,
   "metadata": {},
   "outputs": [
    {
     "name": "stdout",
     "output_type": "stream",
     "text": [
      "\n",
      "\n",
      "\u001b[1m> Entering new  chain...\u001b[0m\n",
      "\u001b[32;1m\u001b[1;3mAI: Based on a single income, the homes on sale that may be affordable are: \n",
      "1243 Elm St, San Jose, CA 95126 (Single Family Home, 3 bedrooms, 2.0 bathrooms, 1400 sq ft, $980,000, 4 stories, 7 years old, $85,000 in upgrades)\n",
      "4689 Willowbrook Dr, San Jose, CA 95129 (Townhouse, 2 bedrooms, 2.5 bathrooms, 1200 sq ft, $1,350,000, 3 stories, 9 years old, $120,000 in upgrades)\n",
      "8320 Amaryllis Way, San Jose, CA 95135 (Single Family Home, 4 bedrooms, 3.0 bathrooms, 2400 sq ft, $1,250,000, 2 stories, 8 years old, $110,000 in upgrades)\n",
      "37 S 11th St, San Jose, CA 95112 (Condo, 1 bedroom, 1.0 bathroom, 800 sq ft, $450,000, 6 stories, 6 years old, $75,000 in upgrades)\n",
      "1550 Technology Dr #2093, San Jose, CA 95110 (Condo, 2 bedrooms, 2.0 bathrooms, 1130 sq ft, $700,000\u001b[0m\n",
      "\n",
      "\u001b[1m> Finished chain.\u001b[0m\n"
     ]
    },
    {
     "data": {
      "text/plain": [
       "'Based on a single income, the homes on sale that may be affordable are: \\n1243 Elm St, San Jose, CA 95126 (Single Family Home, 3 bedrooms, 2.0 bathrooms, 1400 sq ft, $980,000, 4 stories, 7 years old, $85,000 in upgrades)\\n4689 Willowbrook Dr, San Jose, CA 95129 (Townhouse, 2 bedrooms, 2.5 bathrooms, 1200 sq ft, $1,350,000, 3 stories, 9 years old, $120,000 in upgrades)\\n8320 Amaryllis Way, San Jose, CA 95135 (Single Family Home, 4 bedrooms, 3.0 bathrooms, 2400 sq ft, $1,250,000, 2 stories, 8 years old, $110,000 in upgrades)\\n37 S 11th St, San Jose, CA 95112 (Condo, 1 bedroom, 1.0 bathroom, 800 sq ft, $450,000, 6 stories, 6 years old, $75,000 in upgrades)\\n1550 Technology Dr #2093, San Jose, CA 95110 (Condo, 2 bedrooms, 2.0 bathrooms, 1130 sq ft, $700,000'"
      ]
     },
     "execution_count": 35,
     "metadata": {},
     "output_type": "execute_result"
    }
   ],
   "source": [
    "agent_chain.run('Which homes are on sale that a single income family can afford')"
   ]
  },
  {
   "cell_type": "code",
   "execution_count": 36,
   "metadata": {},
   "outputs": [
    {
     "name": "stdout",
     "output_type": "stream",
     "text": [
      "\n",
      "\n",
      "\u001b[1m> Entering new  chain...\u001b[0m\n",
      "\u001b[32;1m\u001b[1;3m\n",
      "AI: Based on a dual income, the homes on sale that may be affordable are: \n",
      "1243 Elm St, San Jose, CA 95126 (Single Family Home, 3 bedrooms, 2.0 bathrooms, 1400 sq ft, $980,000, 4 stories, 7 years old, $85,000 in upgrades)\n",
      "4689 Willowbrook Dr, San Jose, CA 95129 (Townhouse, 2 bedrooms, 2.5 bathrooms, 1200 sq ft, $1,350,000, 3 stories, 9 years old, $120,000 in upgrades)\n",
      "8320 Amaryllis Way, San Jose, CA 95135 (Single Family Home, 4 bedrooms, 3.0 bathrooms, 2400 sq ft, $1,250,000, 2 stories, 8 years old, $110,000 in upgrades)\n",
      "37 S 11th St, San Jose, CA 95112 (Condo, 1 bedroom, 1.0 bathroom, 800 sq ft, $450,000, 6 stories, 6 years old, $75,000 in upgrades)\n",
      "1550 Technology Dr #2093, San Jose, CA 95110 (Condo, 2 bedrooms, 2.0 bathrooms, 1130 sq ft, $700,\u001b[0m\n",
      "\n",
      "\u001b[1m> Finished chain.\u001b[0m\n"
     ]
    },
    {
     "data": {
      "text/plain": [
       "'Based on a dual income, the homes on sale that may be affordable are: \\n1243 Elm St, San Jose, CA 95126 (Single Family Home, 3 bedrooms, 2.0 bathrooms, 1400 sq ft, $980,000, 4 stories, 7 years old, $85,000 in upgrades)\\n4689 Willowbrook Dr, San Jose, CA 95129 (Townhouse, 2 bedrooms, 2.5 bathrooms, 1200 sq ft, $1,350,000, 3 stories, 9 years old, $120,000 in upgrades)\\n8320 Amaryllis Way, San Jose, CA 95135 (Single Family Home, 4 bedrooms, 3.0 bathrooms, 2400 sq ft, $1,250,000, 2 stories, 8 years old, $110,000 in upgrades)\\n37 S 11th St, San Jose, CA 95112 (Condo, 1 bedroom, 1.0 bathroom, 800 sq ft, $450,000, 6 stories, 6 years old, $75,000 in upgrades)\\n1550 Technology Dr #2093, San Jose, CA 95110 (Condo, 2 bedrooms, 2.0 bathrooms, 1130 sq ft, $700,'"
      ]
     },
     "execution_count": 36,
     "metadata": {},
     "output_type": "execute_result"
    }
   ],
   "source": [
    "agent_chain.run('Which homes are on sale that a dual income family can afford')"
   ]
  },
  {
   "cell_type": "code",
   "execution_count": 39,
   "metadata": {},
   "outputs": [
    {
     "data": {
      "text/plain": [
       "['2021', '2022', '2023', 'Listing', 'domain_knowledge']"
      ]
     },
     "execution_count": 39,
     "metadata": {},
     "output_type": "execute_result"
    }
   ],
   "source": [
    "sorted(index_set.keys())"
   ]
  },
  {
   "cell_type": "code",
   "execution_count": null,
   "metadata": {},
   "outputs": [],
   "source": []
  }
 ],
 "metadata": {
  "kernelspec": {
   "display_name": "python11",
   "language": "python",
   "name": "python3"
  },
  "language_info": {
   "codemirror_mode": {
    "name": "ipython",
    "version": 3
   },
   "file_extension": ".py",
   "mimetype": "text/x-python",
   "name": "python",
   "nbconvert_exporter": "python",
   "pygments_lexer": "ipython3",
   "version": "3.11.3"
  },
  "orig_nbformat": 4
 },
 "nbformat": 4,
 "nbformat_minor": 2
}
